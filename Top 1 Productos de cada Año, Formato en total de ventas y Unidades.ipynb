{
 "cells": [
  {
   "cell_type": "code",
   "execution_count": 1,
   "id": "4e7411c2-4243-4a11-8623-81696bc9bf82",
   "metadata": {},
   "outputs": [
    {
     "data": {
      "text/html": [
       "<div>\n",
       "<style scoped>\n",
       "    .dataframe tbody tr th:only-of-type {\n",
       "        vertical-align: middle;\n",
       "    }\n",
       "\n",
       "    .dataframe tbody tr th {\n",
       "        vertical-align: top;\n",
       "    }\n",
       "\n",
       "    .dataframe thead th {\n",
       "        text-align: right;\n",
       "    }\n",
       "</style>\n",
       "<table border=\"1\" class=\"dataframe\">\n",
       "  <thead>\n",
       "    <tr style=\"text-align: right;\">\n",
       "      <th></th>\n",
       "      <th>YEAR</th>\n",
       "      <th>FORMAT</th>\n",
       "      <th>ATTR1</th>\n",
       "      <th>ATTR2</th>\n",
       "      <th>ATTR3</th>\n",
       "      <th>ITEM_CODE</th>\n",
       "      <th>TOTAL_UNIT_SALES</th>\n",
       "      <th>TOTAL_VALUE_SALES</th>\n",
       "    </tr>\n",
       "  </thead>\n",
       "  <tbody>\n",
       "    <tr>\n",
       "      <th>1</th>\n",
       "      <td>2021</td>\n",
       "      <td>GEL</td>\n",
       "      <td>SAFE BLEACH</td>\n",
       "      <td>FABRIC TREATMENT</td>\n",
       "      <td>BLANCO</td>\n",
       "      <td>7501058794956BP1</td>\n",
       "      <td>1.434</td>\n",
       "      <td>174.523</td>\n",
       "    </tr>\n",
       "    <tr>\n",
       "      <th>3</th>\n",
       "      <td>2021</td>\n",
       "      <td>GEL</td>\n",
       "      <td>SAFE BLEACH</td>\n",
       "      <td>FABRIC TREATMENT</td>\n",
       "      <td>ROSA</td>\n",
       "      <td>7501058794949BP1</td>\n",
       "      <td>2.820</td>\n",
       "      <td>355.856</td>\n",
       "    </tr>\n",
       "    <tr>\n",
       "      <th>7</th>\n",
       "      <td>2021</td>\n",
       "      <td>LIQUIDO</td>\n",
       "      <td>SAFE BLEACH</td>\n",
       "      <td>FABRIC TREATMENT</td>\n",
       "      <td>ROSA</td>\n",
       "      <td>7501058786548BP1</td>\n",
       "      <td>0.008</td>\n",
       "      <td>0.218</td>\n",
       "    </tr>\n",
       "    <tr>\n",
       "      <th>9</th>\n",
       "      <td>2021</td>\n",
       "      <td>POLVO</td>\n",
       "      <td>SAFE BLEACH</td>\n",
       "      <td>FABRIC TREATMENT</td>\n",
       "      <td>BLANCO</td>\n",
       "      <td>7501058792808BP1</td>\n",
       "      <td>0.368</td>\n",
       "      <td>52.220</td>\n",
       "    </tr>\n",
       "    <tr>\n",
       "      <th>17</th>\n",
       "      <td>2021</td>\n",
       "      <td>POLVO</td>\n",
       "      <td>SAFE BLEACH</td>\n",
       "      <td>FABRIC TREATMENT</td>\n",
       "      <td>ROSA</td>\n",
       "      <td>7702626204208BP1</td>\n",
       "      <td>29.986</td>\n",
       "      <td>297.723</td>\n",
       "    </tr>\n",
       "    <tr>\n",
       "      <th>20</th>\n",
       "      <td>2022</td>\n",
       "      <td>GEL</td>\n",
       "      <td>SAFE BLEACH</td>\n",
       "      <td>FABRIC TREATMENT</td>\n",
       "      <td>BLANCO</td>\n",
       "      <td>7501058796578BP2</td>\n",
       "      <td>46.448</td>\n",
       "      <td>2212.411</td>\n",
       "    </tr>\n",
       "    <tr>\n",
       "      <th>21</th>\n",
       "      <td>2022</td>\n",
       "      <td>GEL</td>\n",
       "      <td>SAFE BLEACH</td>\n",
       "      <td>FABRIC TREATMENT</td>\n",
       "      <td>ROSA</td>\n",
       "      <td>7501058794949BP1</td>\n",
       "      <td>28.252</td>\n",
       "      <td>3695.257</td>\n",
       "    </tr>\n",
       "    <tr>\n",
       "      <th>25</th>\n",
       "      <td>2022</td>\n",
       "      <td>LIQUIDO</td>\n",
       "      <td>SAFE BLEACH</td>\n",
       "      <td>FABRIC TREATMENT</td>\n",
       "      <td>ROSA</td>\n",
       "      <td>7501058786548BP1</td>\n",
       "      <td>0.118</td>\n",
       "      <td>5.494</td>\n",
       "    </tr>\n",
       "    <tr>\n",
       "      <th>27</th>\n",
       "      <td>2022</td>\n",
       "      <td>POLVO</td>\n",
       "      <td>SAFE BLEACH</td>\n",
       "      <td>FABRIC TREATMENT</td>\n",
       "      <td>BLANCO</td>\n",
       "      <td>7501058792808BP1</td>\n",
       "      <td>11.946</td>\n",
       "      <td>1620.525</td>\n",
       "    </tr>\n",
       "    <tr>\n",
       "      <th>36</th>\n",
       "      <td>2022</td>\n",
       "      <td>POLVO</td>\n",
       "      <td>SAFE BLEACH</td>\n",
       "      <td>FABRIC TREATMENT</td>\n",
       "      <td>ROSA</td>\n",
       "      <td>7702626204208BP1</td>\n",
       "      <td>1310.003</td>\n",
       "      <td>14137.109</td>\n",
       "    </tr>\n",
       "    <tr>\n",
       "      <th>39</th>\n",
       "      <td>2023</td>\n",
       "      <td>GEL</td>\n",
       "      <td>SAFE BLEACH</td>\n",
       "      <td>FABRIC TREATMENT</td>\n",
       "      <td>BLANCO</td>\n",
       "      <td>7501058796578BP2</td>\n",
       "      <td>39.652</td>\n",
       "      <td>2165.981</td>\n",
       "    </tr>\n",
       "    <tr>\n",
       "      <th>42</th>\n",
       "      <td>2023</td>\n",
       "      <td>GEL</td>\n",
       "      <td>SAFE BLEACH</td>\n",
       "      <td>FABRIC TREATMENT</td>\n",
       "      <td>ROSA</td>\n",
       "      <td>7501058796578BP1</td>\n",
       "      <td>39.652</td>\n",
       "      <td>2165.981</td>\n",
       "    </tr>\n",
       "    <tr>\n",
       "      <th>44</th>\n",
       "      <td>2023</td>\n",
       "      <td>LIQUIDO</td>\n",
       "      <td>SAFE BLEACH</td>\n",
       "      <td>FABRIC TREATMENT</td>\n",
       "      <td>ROSA</td>\n",
       "      <td>7501058786548BP1</td>\n",
       "      <td>0.030</td>\n",
       "      <td>0.244</td>\n",
       "    </tr>\n",
       "    <tr>\n",
       "      <th>47</th>\n",
       "      <td>2023</td>\n",
       "      <td>POLVO</td>\n",
       "      <td>SAFE BLEACH</td>\n",
       "      <td>FABRIC TREATMENT</td>\n",
       "      <td>BLANCO</td>\n",
       "      <td>7501058792808BP1</td>\n",
       "      <td>60.644</td>\n",
       "      <td>7604.733</td>\n",
       "    </tr>\n",
       "    <tr>\n",
       "      <th>52</th>\n",
       "      <td>2023</td>\n",
       "      <td>POLVO</td>\n",
       "      <td>SAFE BLEACH</td>\n",
       "      <td>FABRIC TREATMENT</td>\n",
       "      <td>ROSA</td>\n",
       "      <td>7702626204208BP1</td>\n",
       "      <td>737.003</td>\n",
       "      <td>8062.581</td>\n",
       "    </tr>\n",
       "  </tbody>\n",
       "</table>\n",
       "</div>"
      ],
      "text/plain": [
       "    YEAR   FORMAT        ATTR1             ATTR2   ATTR3         ITEM_CODE  \\\n",
       "1   2021      GEL  SAFE BLEACH  FABRIC TREATMENT  BLANCO  7501058794956BP1   \n",
       "3   2021      GEL  SAFE BLEACH  FABRIC TREATMENT    ROSA  7501058794949BP1   \n",
       "7   2021  LIQUIDO  SAFE BLEACH  FABRIC TREATMENT    ROSA  7501058786548BP1   \n",
       "9   2021    POLVO  SAFE BLEACH  FABRIC TREATMENT  BLANCO  7501058792808BP1   \n",
       "17  2021    POLVO  SAFE BLEACH  FABRIC TREATMENT    ROSA  7702626204208BP1   \n",
       "20  2022      GEL  SAFE BLEACH  FABRIC TREATMENT  BLANCO  7501058796578BP2   \n",
       "21  2022      GEL  SAFE BLEACH  FABRIC TREATMENT    ROSA  7501058794949BP1   \n",
       "25  2022  LIQUIDO  SAFE BLEACH  FABRIC TREATMENT    ROSA  7501058786548BP1   \n",
       "27  2022    POLVO  SAFE BLEACH  FABRIC TREATMENT  BLANCO  7501058792808BP1   \n",
       "36  2022    POLVO  SAFE BLEACH  FABRIC TREATMENT    ROSA  7702626204208BP1   \n",
       "39  2023      GEL  SAFE BLEACH  FABRIC TREATMENT  BLANCO  7501058796578BP2   \n",
       "42  2023      GEL  SAFE BLEACH  FABRIC TREATMENT    ROSA  7501058796578BP1   \n",
       "44  2023  LIQUIDO  SAFE BLEACH  FABRIC TREATMENT    ROSA  7501058786548BP1   \n",
       "47  2023    POLVO  SAFE BLEACH  FABRIC TREATMENT  BLANCO  7501058792808BP1   \n",
       "52  2023    POLVO  SAFE BLEACH  FABRIC TREATMENT    ROSA  7702626204208BP1   \n",
       "\n",
       "    TOTAL_UNIT_SALES  TOTAL_VALUE_SALES  \n",
       "1              1.434            174.523  \n",
       "3              2.820            355.856  \n",
       "7              0.008              0.218  \n",
       "9              0.368             52.220  \n",
       "17            29.986            297.723  \n",
       "20            46.448           2212.411  \n",
       "21            28.252           3695.257  \n",
       "25             0.118              5.494  \n",
       "27            11.946           1620.525  \n",
       "36          1310.003          14137.109  \n",
       "39            39.652           2165.981  \n",
       "42            39.652           2165.981  \n",
       "44             0.030              0.244  \n",
       "47            60.644           7604.733  \n",
       "52           737.003           8062.581  "
      ]
     },
     "execution_count": 1,
     "metadata": {},
     "output_type": "execute_result"
    }
   ],
   "source": [
    "import pandas as pd\n",
    "import matplotlib.pyplot as plt\n",
    "import plotly.express as px\n",
    "\n",
    "#Cargamos nuestro archivo CSV previamente ya preparado para su analisis, donde lo cargamos con la libreria pandas y mostramos las primeras 5 filas\n",
    "df = pd.read_csv('Final.csv')\n",
    "\n",
    "#Eliminamos la categoria de id de las columnas, esta no es necesaria en general solo es 1 categoria y ya se tiene el nombre\n",
    "#creamos un df de la correlacion unicamente de los valores numericos\n",
    "df = df.drop(columns=['ID_CATEGORY'])\n",
    "dfCorr = df.corr(numeric_only=True)\n",
    "\n",
    "#De nuestro DF principal nos aseguramos que sea de tipo fecha\n",
    "df['DATE'] = pd.to_datetime(df['DATE'])\n",
    "df = df[df['BRAND'] == 'VANISH']\n",
    "\n",
    "#Sacamos el producto mas vendido en cada uno de los Segmentos por Año, Formato y Caracteristicas de el Producto.\n",
    "dfFormatSalesAtts = (df.groupby(['YEAR','FORMAT','ATTR1','ATTR2','ATTR3','ITEM_CODE'])[['TOTAL_UNIT_SALES','TOTAL_VALUE_SALES']].sum().reset_index()\n",
    "    .sort_values(by=['YEAR','FORMAT','ATTR1','ATTR2','ATTR3','TOTAL_VALUE_SALES'], ascending = [True,True,True,True,True,False])\n",
    "    .groupby(['YEAR','FORMAT','ATTR3']).head(1))\n",
    "dfFormatSalesAtts"
   ]
  },
  {
   "cell_type": "code",
   "execution_count": 2,
   "id": "9743975d-4301-469c-9c91-cff4f565321c",
   "metadata": {},
   "outputs": [
    {
     "data": {
      "application/vnd.plotly.v1+json": {
       "config": {
        "plotlyServerURL": "https://plot.ly"
       },
       "data": [
        {
         "customdata": [
          [
           "BLANCO"
          ]
         ],
         "hovertemplate": "Codigo de Producto=7501058794956BP1<br>AÑO=2021<br>FORMATO=%{x}<br>TOTAL UNIDADES VENDIDAS=%{y}<br>COLOR=%{customdata[0]}<extra></extra>",
         "legendgroup": "7501058794956BP1",
         "marker": {
          "color": "#636efa",
          "pattern": {
           "shape": ""
          }
         },
         "name": "7501058794956BP1",
         "orientation": "v",
         "showlegend": true,
         "text": [
          "BLANCO"
         ],
         "textangle": 0,
         "textposition": "outside",
         "type": "bar",
         "x": [
          "GEL"
         ],
         "xaxis": "x",
         "y": {
          "bdata": "i2zn+6nx9j8=",
          "dtype": "f8"
         },
         "yaxis": "y"
        },
        {
         "customdata": [
          [
           "ROSA"
          ]
         ],
         "hovertemplate": "Codigo de Producto=7501058794949BP1<br>AÑO=2021<br>FORMATO=%{x}<br>TOTAL UNIDADES VENDIDAS=%{y}<br>COLOR=%{customdata[0]}<extra></extra>",
         "legendgroup": "7501058794949BP1",
         "marker": {
          "color": "#EF553B",
          "pattern": {
           "shape": ""
          }
         },
         "name": "7501058794949BP1",
         "orientation": "v",
         "showlegend": true,
         "text": [
          "ROSA"
         ],
         "textangle": 0,
         "textposition": "outside",
         "type": "bar",
         "x": [
          "GEL"
         ],
         "xaxis": "x",
         "y": {
          "bdata": "j8L1KFyPBkA=",
          "dtype": "f8"
         },
         "yaxis": "y"
        },
        {
         "customdata": [
          [
           "ROSA"
          ]
         ],
         "hovertemplate": "Codigo de Producto=7501058794949BP1<br>AÑO=2022<br>FORMATO=%{x}<br>TOTAL UNIDADES VENDIDAS=%{y}<br>COLOR=%{customdata[0]}<extra></extra>",
         "legendgroup": "7501058794949BP1",
         "marker": {
          "color": "#EF553B",
          "pattern": {
           "shape": ""
          }
         },
         "name": "7501058794949BP1",
         "orientation": "v",
         "showlegend": false,
         "text": [
          "ROSA"
         ],
         "textangle": 0,
         "textposition": "outside",
         "type": "bar",
         "x": [
          "GEL"
         ],
         "xaxis": "x2",
         "y": {
          "bdata": "jZduEoNAPEA=",
          "dtype": "f8"
         },
         "yaxis": "y2"
        },
        {
         "customdata": [
          [
           "ROSA"
          ]
         ],
         "hovertemplate": "Codigo de Producto=7501058786548BP1<br>AÑO=2021<br>FORMATO=%{x}<br>TOTAL UNIDADES VENDIDAS=%{y}<br>COLOR=%{customdata[0]}<extra></extra>",
         "legendgroup": "7501058786548BP1",
         "marker": {
          "color": "#00cc96",
          "pattern": {
           "shape": ""
          }
         },
         "name": "7501058786548BP1",
         "orientation": "v",
         "showlegend": true,
         "text": [
          "ROSA"
         ],
         "textangle": 0,
         "textposition": "outside",
         "type": "bar",
         "x": [
          "LIQUIDO"
         ],
         "xaxis": "x",
         "y": {
          "bdata": "/Knx0k1igD8=",
          "dtype": "f8"
         },
         "yaxis": "y"
        },
        {
         "customdata": [
          [
           "ROSA"
          ]
         ],
         "hovertemplate": "Codigo de Producto=7501058786548BP1<br>AÑO=2022<br>FORMATO=%{x}<br>TOTAL UNIDADES VENDIDAS=%{y}<br>COLOR=%{customdata[0]}<extra></extra>",
         "legendgroup": "7501058786548BP1",
         "marker": {
          "color": "#00cc96",
          "pattern": {
           "shape": ""
          }
         },
         "name": "7501058786548BP1",
         "orientation": "v",
         "showlegend": false,
         "text": [
          "ROSA"
         ],
         "textangle": 0,
         "textposition": "outside",
         "type": "bar",
         "x": [
          "LIQUIDO"
         ],
         "xaxis": "x2",
         "y": {
          "bdata": "aZHtfD81vj8=",
          "dtype": "f8"
         },
         "yaxis": "y2"
        },
        {
         "customdata": [
          [
           "ROSA"
          ]
         ],
         "hovertemplate": "Codigo de Producto=7501058786548BP1<br>AÑO=2023<br>FORMATO=%{x}<br>TOTAL UNIDADES VENDIDAS=%{y}<br>COLOR=%{customdata[0]}<extra></extra>",
         "legendgroup": "7501058786548BP1",
         "marker": {
          "color": "#00cc96",
          "pattern": {
           "shape": ""
          }
         },
         "name": "7501058786548BP1",
         "orientation": "v",
         "showlegend": false,
         "text": [
          "ROSA"
         ],
         "textangle": 0,
         "textposition": "outside",
         "type": "bar",
         "x": [
          "LIQUIDO"
         ],
         "xaxis": "x3",
         "y": {
          "bdata": "uB6F61G4nj8=",
          "dtype": "f8"
         },
         "yaxis": "y3"
        },
        {
         "customdata": [
          [
           "BLANCO"
          ]
         ],
         "hovertemplate": "Codigo de Producto=7501058792808BP1<br>AÑO=2021<br>FORMATO=%{x}<br>TOTAL UNIDADES VENDIDAS=%{y}<br>COLOR=%{customdata[0]}<extra></extra>",
         "legendgroup": "7501058792808BP1",
         "marker": {
          "color": "#ab63fa",
          "pattern": {
           "shape": ""
          }
         },
         "name": "7501058792808BP1",
         "orientation": "v",
         "showlegend": true,
         "text": [
          "BLANCO"
         ],
         "textangle": 0,
         "textposition": "outside",
         "type": "bar",
         "x": [
          "POLVO"
         ],
         "xaxis": "x",
         "y": {
          "bdata": "WmQ730+N1z8=",
          "dtype": "f8"
         },
         "yaxis": "y"
        },
        {
         "customdata": [
          [
           "BLANCO"
          ]
         ],
         "hovertemplate": "Codigo de Producto=7501058792808BP1<br>AÑO=2022<br>FORMATO=%{x}<br>TOTAL UNIDADES VENDIDAS=%{y}<br>COLOR=%{customdata[0]}<extra></extra>",
         "legendgroup": "7501058792808BP1",
         "marker": {
          "color": "#ab63fa",
          "pattern": {
           "shape": ""
          }
         },
         "name": "7501058792808BP1",
         "orientation": "v",
         "showlegend": false,
         "text": [
          "BLANCO"
         ],
         "textangle": 0,
         "textposition": "outside",
         "type": "bar",
         "x": [
          "POLVO"
         ],
         "xaxis": "x2",
         "y": {
          "bdata": "MQisHFrkJ0A=",
          "dtype": "f8"
         },
         "yaxis": "y2"
        },
        {
         "customdata": [
          [
           "BLANCO"
          ]
         ],
         "hovertemplate": "Codigo de Producto=7501058792808BP1<br>AÑO=2023<br>FORMATO=%{x}<br>TOTAL UNIDADES VENDIDAS=%{y}<br>COLOR=%{customdata[0]}<extra></extra>",
         "legendgroup": "7501058792808BP1",
         "marker": {
          "color": "#ab63fa",
          "pattern": {
           "shape": ""
          }
         },
         "name": "7501058792808BP1",
         "orientation": "v",
         "showlegend": false,
         "text": [
          "BLANCO"
         ],
         "textangle": 0,
         "textposition": "outside",
         "type": "bar",
         "x": [
          "POLVO"
         ],
         "xaxis": "x3",
         "y": {
          "bdata": "30+Nl25STkA=",
          "dtype": "f8"
         },
         "yaxis": "y3"
        },
        {
         "customdata": [
          [
           "ROSA"
          ]
         ],
         "hovertemplate": "Codigo de Producto=7702626204208BP1<br>AÑO=2021<br>FORMATO=%{x}<br>TOTAL UNIDADES VENDIDAS=%{y}<br>COLOR=%{customdata[0]}<extra></extra>",
         "legendgroup": "7702626204208BP1",
         "marker": {
          "color": "#FFA15A",
          "pattern": {
           "shape": ""
          }
         },
         "name": "7702626204208BP1",
         "orientation": "v",
         "showlegend": true,
         "text": [
          "ROSA"
         ],
         "textangle": 0,
         "textposition": "outside",
         "type": "bar",
         "x": [
          "POLVO"
         ],
         "xaxis": "x",
         "y": {
          "bdata": "Itv5fmr8PUA=",
          "dtype": "f8"
         },
         "yaxis": "y"
        },
        {
         "customdata": [
          [
           "ROSA"
          ]
         ],
         "hovertemplate": "Codigo de Producto=7702626204208BP1<br>AÑO=2022<br>FORMATO=%{x}<br>TOTAL UNIDADES VENDIDAS=%{y}<br>COLOR=%{customdata[0]}<extra></extra>",
         "legendgroup": "7702626204208BP1",
         "marker": {
          "color": "#FFA15A",
          "pattern": {
           "shape": ""
          }
         },
         "name": "7702626204208BP1",
         "orientation": "v",
         "showlegend": false,
         "text": [
          "ROSA"
         ],
         "textangle": 0,
         "textposition": "outside",
         "type": "bar",
         "x": [
          "POLVO"
         ],
         "xaxis": "x2",
         "y": {
          "bdata": "jZduEgN4lEA=",
          "dtype": "f8"
         },
         "yaxis": "y2"
        },
        {
         "customdata": [
          [
           "ROSA"
          ]
         ],
         "hovertemplate": "Codigo de Producto=7702626204208BP1<br>AÑO=2023<br>FORMATO=%{x}<br>TOTAL UNIDADES VENDIDAS=%{y}<br>COLOR=%{customdata[0]}<extra></extra>",
         "legendgroup": "7702626204208BP1",
         "marker": {
          "color": "#FFA15A",
          "pattern": {
           "shape": ""
          }
         },
         "name": "7702626204208BP1",
         "orientation": "v",
         "showlegend": false,
         "text": [
          "ROSA"
         ],
         "textangle": 0,
         "textposition": "outside",
         "type": "bar",
         "x": [
          "POLVO"
         ],
         "xaxis": "x3",
         "y": {
          "bdata": "Gy/dJAYIh0A=",
          "dtype": "f8"
         },
         "yaxis": "y3"
        },
        {
         "customdata": [
          [
           "BLANCO"
          ]
         ],
         "hovertemplate": "Codigo de Producto=7501058796578BP2<br>AÑO=2022<br>FORMATO=%{x}<br>TOTAL UNIDADES VENDIDAS=%{y}<br>COLOR=%{customdata[0]}<extra></extra>",
         "legendgroup": "7501058796578BP2",
         "marker": {
          "color": "#19d3f3",
          "pattern": {
           "shape": ""
          }
         },
         "name": "7501058796578BP2",
         "orientation": "v",
         "showlegend": true,
         "text": [
          "BLANCO"
         ],
         "textangle": 0,
         "textposition": "outside",
         "type": "bar",
         "x": [
          "GEL"
         ],
         "xaxis": "x2",
         "y": {
          "bdata": "001iEFg5R0A=",
          "dtype": "f8"
         },
         "yaxis": "y2"
        },
        {
         "customdata": [
          [
           "BLANCO"
          ]
         ],
         "hovertemplate": "Codigo de Producto=7501058796578BP2<br>AÑO=2023<br>FORMATO=%{x}<br>TOTAL UNIDADES VENDIDAS=%{y}<br>COLOR=%{customdata[0]}<extra></extra>",
         "legendgroup": "7501058796578BP2",
         "marker": {
          "color": "#19d3f3",
          "pattern": {
           "shape": ""
          }
         },
         "name": "7501058796578BP2",
         "orientation": "v",
         "showlegend": false,
         "text": [
          "BLANCO"
         ],
         "textangle": 0,
         "textposition": "outside",
         "type": "bar",
         "x": [
          "GEL"
         ],
         "xaxis": "x3",
         "y": {
          "bdata": "+n5qvHTTQ0A=",
          "dtype": "f8"
         },
         "yaxis": "y3"
        },
        {
         "customdata": [
          [
           "ROSA"
          ]
         ],
         "hovertemplate": "Codigo de Producto=7501058796578BP1<br>AÑO=2023<br>FORMATO=%{x}<br>TOTAL UNIDADES VENDIDAS=%{y}<br>COLOR=%{customdata[0]}<extra></extra>",
         "legendgroup": "7501058796578BP1",
         "marker": {
          "color": "#FF6692",
          "pattern": {
           "shape": ""
          }
         },
         "name": "7501058796578BP1",
         "orientation": "v",
         "showlegend": true,
         "text": [
          "ROSA"
         ],
         "textangle": 0,
         "textposition": "outside",
         "type": "bar",
         "x": [
          "GEL"
         ],
         "xaxis": "x3",
         "y": {
          "bdata": "+n5qvHTTQ0A=",
          "dtype": "f8"
         },
         "yaxis": "y3"
        }
       ],
       "layout": {
        "annotations": [
         {
          "font": {},
          "showarrow": false,
          "text": "AÑO=2021",
          "x": 0.15999999999999998,
          "xanchor": "center",
          "xref": "paper",
          "y": 1,
          "yanchor": "bottom",
          "yref": "paper"
         },
         {
          "font": {},
          "showarrow": false,
          "text": "AÑO=2022",
          "x": 0.49999999999999994,
          "xanchor": "center",
          "xref": "paper",
          "y": 1,
          "yanchor": "bottom",
          "yref": "paper"
         },
         {
          "font": {},
          "showarrow": false,
          "text": "AÑO=2023",
          "x": 0.8399999999999999,
          "xanchor": "center",
          "xref": "paper",
          "y": 1,
          "yanchor": "bottom",
          "yref": "paper"
         }
        ],
        "barmode": "relative",
        "height": 700,
        "legend": {
         "title": {
          "text": "Codigo de Producto"
         },
         "tracegroupgap": 0
        },
        "template": {
         "data": {
          "bar": [
           {
            "error_x": {
             "color": "#2a3f5f"
            },
            "error_y": {
             "color": "#2a3f5f"
            },
            "marker": {
             "line": {
              "color": "#E5ECF6",
              "width": 0.5
             },
             "pattern": {
              "fillmode": "overlay",
              "size": 10,
              "solidity": 0.2
             }
            },
            "type": "bar"
           }
          ],
          "barpolar": [
           {
            "marker": {
             "line": {
              "color": "#E5ECF6",
              "width": 0.5
             },
             "pattern": {
              "fillmode": "overlay",
              "size": 10,
              "solidity": 0.2
             }
            },
            "type": "barpolar"
           }
          ],
          "carpet": [
           {
            "aaxis": {
             "endlinecolor": "#2a3f5f",
             "gridcolor": "white",
             "linecolor": "white",
             "minorgridcolor": "white",
             "startlinecolor": "#2a3f5f"
            },
            "baxis": {
             "endlinecolor": "#2a3f5f",
             "gridcolor": "white",
             "linecolor": "white",
             "minorgridcolor": "white",
             "startlinecolor": "#2a3f5f"
            },
            "type": "carpet"
           }
          ],
          "choropleth": [
           {
            "colorbar": {
             "outlinewidth": 0,
             "ticks": ""
            },
            "type": "choropleth"
           }
          ],
          "contour": [
           {
            "colorbar": {
             "outlinewidth": 0,
             "ticks": ""
            },
            "colorscale": [
             [
              0,
              "#0d0887"
             ],
             [
              0.1111111111111111,
              "#46039f"
             ],
             [
              0.2222222222222222,
              "#7201a8"
             ],
             [
              0.3333333333333333,
              "#9c179e"
             ],
             [
              0.4444444444444444,
              "#bd3786"
             ],
             [
              0.5555555555555556,
              "#d8576b"
             ],
             [
              0.6666666666666666,
              "#ed7953"
             ],
             [
              0.7777777777777778,
              "#fb9f3a"
             ],
             [
              0.8888888888888888,
              "#fdca26"
             ],
             [
              1,
              "#f0f921"
             ]
            ],
            "type": "contour"
           }
          ],
          "contourcarpet": [
           {
            "colorbar": {
             "outlinewidth": 0,
             "ticks": ""
            },
            "type": "contourcarpet"
           }
          ],
          "heatmap": [
           {
            "colorbar": {
             "outlinewidth": 0,
             "ticks": ""
            },
            "colorscale": [
             [
              0,
              "#0d0887"
             ],
             [
              0.1111111111111111,
              "#46039f"
             ],
             [
              0.2222222222222222,
              "#7201a8"
             ],
             [
              0.3333333333333333,
              "#9c179e"
             ],
             [
              0.4444444444444444,
              "#bd3786"
             ],
             [
              0.5555555555555556,
              "#d8576b"
             ],
             [
              0.6666666666666666,
              "#ed7953"
             ],
             [
              0.7777777777777778,
              "#fb9f3a"
             ],
             [
              0.8888888888888888,
              "#fdca26"
             ],
             [
              1,
              "#f0f921"
             ]
            ],
            "type": "heatmap"
           }
          ],
          "histogram": [
           {
            "marker": {
             "pattern": {
              "fillmode": "overlay",
              "size": 10,
              "solidity": 0.2
             }
            },
            "type": "histogram"
           }
          ],
          "histogram2d": [
           {
            "colorbar": {
             "outlinewidth": 0,
             "ticks": ""
            },
            "colorscale": [
             [
              0,
              "#0d0887"
             ],
             [
              0.1111111111111111,
              "#46039f"
             ],
             [
              0.2222222222222222,
              "#7201a8"
             ],
             [
              0.3333333333333333,
              "#9c179e"
             ],
             [
              0.4444444444444444,
              "#bd3786"
             ],
             [
              0.5555555555555556,
              "#d8576b"
             ],
             [
              0.6666666666666666,
              "#ed7953"
             ],
             [
              0.7777777777777778,
              "#fb9f3a"
             ],
             [
              0.8888888888888888,
              "#fdca26"
             ],
             [
              1,
              "#f0f921"
             ]
            ],
            "type": "histogram2d"
           }
          ],
          "histogram2dcontour": [
           {
            "colorbar": {
             "outlinewidth": 0,
             "ticks": ""
            },
            "colorscale": [
             [
              0,
              "#0d0887"
             ],
             [
              0.1111111111111111,
              "#46039f"
             ],
             [
              0.2222222222222222,
              "#7201a8"
             ],
             [
              0.3333333333333333,
              "#9c179e"
             ],
             [
              0.4444444444444444,
              "#bd3786"
             ],
             [
              0.5555555555555556,
              "#d8576b"
             ],
             [
              0.6666666666666666,
              "#ed7953"
             ],
             [
              0.7777777777777778,
              "#fb9f3a"
             ],
             [
              0.8888888888888888,
              "#fdca26"
             ],
             [
              1,
              "#f0f921"
             ]
            ],
            "type": "histogram2dcontour"
           }
          ],
          "mesh3d": [
           {
            "colorbar": {
             "outlinewidth": 0,
             "ticks": ""
            },
            "type": "mesh3d"
           }
          ],
          "parcoords": [
           {
            "line": {
             "colorbar": {
              "outlinewidth": 0,
              "ticks": ""
             }
            },
            "type": "parcoords"
           }
          ],
          "pie": [
           {
            "automargin": true,
            "type": "pie"
           }
          ],
          "scatter": [
           {
            "fillpattern": {
             "fillmode": "overlay",
             "size": 10,
             "solidity": 0.2
            },
            "type": "scatter"
           }
          ],
          "scatter3d": [
           {
            "line": {
             "colorbar": {
              "outlinewidth": 0,
              "ticks": ""
             }
            },
            "marker": {
             "colorbar": {
              "outlinewidth": 0,
              "ticks": ""
             }
            },
            "type": "scatter3d"
           }
          ],
          "scattercarpet": [
           {
            "marker": {
             "colorbar": {
              "outlinewidth": 0,
              "ticks": ""
             }
            },
            "type": "scattercarpet"
           }
          ],
          "scattergeo": [
           {
            "marker": {
             "colorbar": {
              "outlinewidth": 0,
              "ticks": ""
             }
            },
            "type": "scattergeo"
           }
          ],
          "scattergl": [
           {
            "marker": {
             "colorbar": {
              "outlinewidth": 0,
              "ticks": ""
             }
            },
            "type": "scattergl"
           }
          ],
          "scattermap": [
           {
            "marker": {
             "colorbar": {
              "outlinewidth": 0,
              "ticks": ""
             }
            },
            "type": "scattermap"
           }
          ],
          "scattermapbox": [
           {
            "marker": {
             "colorbar": {
              "outlinewidth": 0,
              "ticks": ""
             }
            },
            "type": "scattermapbox"
           }
          ],
          "scatterpolar": [
           {
            "marker": {
             "colorbar": {
              "outlinewidth": 0,
              "ticks": ""
             }
            },
            "type": "scatterpolar"
           }
          ],
          "scatterpolargl": [
           {
            "marker": {
             "colorbar": {
              "outlinewidth": 0,
              "ticks": ""
             }
            },
            "type": "scatterpolargl"
           }
          ],
          "scatterternary": [
           {
            "marker": {
             "colorbar": {
              "outlinewidth": 0,
              "ticks": ""
             }
            },
            "type": "scatterternary"
           }
          ],
          "surface": [
           {
            "colorbar": {
             "outlinewidth": 0,
             "ticks": ""
            },
            "colorscale": [
             [
              0,
              "#0d0887"
             ],
             [
              0.1111111111111111,
              "#46039f"
             ],
             [
              0.2222222222222222,
              "#7201a8"
             ],
             [
              0.3333333333333333,
              "#9c179e"
             ],
             [
              0.4444444444444444,
              "#bd3786"
             ],
             [
              0.5555555555555556,
              "#d8576b"
             ],
             [
              0.6666666666666666,
              "#ed7953"
             ],
             [
              0.7777777777777778,
              "#fb9f3a"
             ],
             [
              0.8888888888888888,
              "#fdca26"
             ],
             [
              1,
              "#f0f921"
             ]
            ],
            "type": "surface"
           }
          ],
          "table": [
           {
            "cells": {
             "fill": {
              "color": "#EBF0F8"
             },
             "line": {
              "color": "white"
             }
            },
            "header": {
             "fill": {
              "color": "#C8D4E3"
             },
             "line": {
              "color": "white"
             }
            },
            "type": "table"
           }
          ]
         },
         "layout": {
          "annotationdefaults": {
           "arrowcolor": "#2a3f5f",
           "arrowhead": 0,
           "arrowwidth": 1
          },
          "autotypenumbers": "strict",
          "coloraxis": {
           "colorbar": {
            "outlinewidth": 0,
            "ticks": ""
           }
          },
          "colorscale": {
           "diverging": [
            [
             0,
             "#8e0152"
            ],
            [
             0.1,
             "#c51b7d"
            ],
            [
             0.2,
             "#de77ae"
            ],
            [
             0.3,
             "#f1b6da"
            ],
            [
             0.4,
             "#fde0ef"
            ],
            [
             0.5,
             "#f7f7f7"
            ],
            [
             0.6,
             "#e6f5d0"
            ],
            [
             0.7,
             "#b8e186"
            ],
            [
             0.8,
             "#7fbc41"
            ],
            [
             0.9,
             "#4d9221"
            ],
            [
             1,
             "#276419"
            ]
           ],
           "sequential": [
            [
             0,
             "#0d0887"
            ],
            [
             0.1111111111111111,
             "#46039f"
            ],
            [
             0.2222222222222222,
             "#7201a8"
            ],
            [
             0.3333333333333333,
             "#9c179e"
            ],
            [
             0.4444444444444444,
             "#bd3786"
            ],
            [
             0.5555555555555556,
             "#d8576b"
            ],
            [
             0.6666666666666666,
             "#ed7953"
            ],
            [
             0.7777777777777778,
             "#fb9f3a"
            ],
            [
             0.8888888888888888,
             "#fdca26"
            ],
            [
             1,
             "#f0f921"
            ]
           ],
           "sequentialminus": [
            [
             0,
             "#0d0887"
            ],
            [
             0.1111111111111111,
             "#46039f"
            ],
            [
             0.2222222222222222,
             "#7201a8"
            ],
            [
             0.3333333333333333,
             "#9c179e"
            ],
            [
             0.4444444444444444,
             "#bd3786"
            ],
            [
             0.5555555555555556,
             "#d8576b"
            ],
            [
             0.6666666666666666,
             "#ed7953"
            ],
            [
             0.7777777777777778,
             "#fb9f3a"
            ],
            [
             0.8888888888888888,
             "#fdca26"
            ],
            [
             1,
             "#f0f921"
            ]
           ]
          },
          "colorway": [
           "#636efa",
           "#EF553B",
           "#00cc96",
           "#ab63fa",
           "#FFA15A",
           "#19d3f3",
           "#FF6692",
           "#B6E880",
           "#FF97FF",
           "#FECB52"
          ],
          "font": {
           "color": "#2a3f5f"
          },
          "geo": {
           "bgcolor": "white",
           "lakecolor": "white",
           "landcolor": "#E5ECF6",
           "showlakes": true,
           "showland": true,
           "subunitcolor": "white"
          },
          "hoverlabel": {
           "align": "left"
          },
          "hovermode": "closest",
          "mapbox": {
           "style": "light"
          },
          "paper_bgcolor": "white",
          "plot_bgcolor": "#E5ECF6",
          "polar": {
           "angularaxis": {
            "gridcolor": "white",
            "linecolor": "white",
            "ticks": ""
           },
           "bgcolor": "#E5ECF6",
           "radialaxis": {
            "gridcolor": "white",
            "linecolor": "white",
            "ticks": ""
           }
          },
          "scene": {
           "xaxis": {
            "backgroundcolor": "#E5ECF6",
            "gridcolor": "white",
            "gridwidth": 2,
            "linecolor": "white",
            "showbackground": true,
            "ticks": "",
            "zerolinecolor": "white"
           },
           "yaxis": {
            "backgroundcolor": "#E5ECF6",
            "gridcolor": "white",
            "gridwidth": 2,
            "linecolor": "white",
            "showbackground": true,
            "ticks": "",
            "zerolinecolor": "white"
           },
           "zaxis": {
            "backgroundcolor": "#E5ECF6",
            "gridcolor": "white",
            "gridwidth": 2,
            "linecolor": "white",
            "showbackground": true,
            "ticks": "",
            "zerolinecolor": "white"
           }
          },
          "shapedefaults": {
           "line": {
            "color": "#2a3f5f"
           }
          },
          "ternary": {
           "aaxis": {
            "gridcolor": "white",
            "linecolor": "white",
            "ticks": ""
           },
           "baxis": {
            "gridcolor": "white",
            "linecolor": "white",
            "ticks": ""
           },
           "bgcolor": "#E5ECF6",
           "caxis": {
            "gridcolor": "white",
            "linecolor": "white",
            "ticks": ""
           }
          },
          "title": {
           "x": 0.05
          },
          "xaxis": {
           "automargin": true,
           "gridcolor": "white",
           "linecolor": "white",
           "ticks": "",
           "title": {
            "standoff": 15
           },
           "zerolinecolor": "white",
           "zerolinewidth": 2
          },
          "yaxis": {
           "automargin": true,
           "gridcolor": "white",
           "linecolor": "white",
           "ticks": "",
           "title": {
            "standoff": 15
           },
           "zerolinecolor": "white",
           "zerolinewidth": 2
          }
         }
        },
        "title": {
         "text": "Top Productos de Cada Segmento con mas Unidades Vendidas"
        },
        "xaxis": {
         "anchor": "y",
         "domain": [
          0,
          0.31999999999999995
         ],
         "title": {
          "text": "FORMATO"
         }
        },
        "xaxis2": {
         "anchor": "y2",
         "domain": [
          0.33999999999999997,
          0.6599999999999999
         ],
         "matches": "x",
         "title": {
          "text": "FORMATO"
         }
        },
        "xaxis3": {
         "anchor": "y3",
         "domain": [
          0.6799999999999999,
          0.9999999999999999
         ],
         "matches": "x",
         "title": {
          "text": "FORMATO"
         }
        },
        "yaxis": {
         "anchor": "x",
         "domain": [
          0,
          1
         ],
         "title": {
          "text": "TOTAL UNIDADES VENDIDAS"
         }
        },
        "yaxis2": {
         "anchor": "x2",
         "domain": [
          0,
          1
         ],
         "matches": "y",
         "showticklabels": false
        },
        "yaxis3": {
         "anchor": "x3",
         "domain": [
          0,
          1
         ],
         "matches": "y",
         "showticklabels": false
        }
       }
      },
      "image/png": "[encoded data removed]"
     },
     "metadata": {},
     "output_type": "display_data"
    }
   ],
   "source": [
    "fig = px.bar(\n",
    "    dfFormatSalesAtts,\n",
    "    x=\"FORMAT\",\n",
    "    y=\"TOTAL_UNIT_SALES\",\n",
    "    color=\"ITEM_CODE\",\n",
    "    facet_col=\"YEAR\",\n",
    "    hover_data=[\"ATTR3\"],\n",
    "    text=\"ATTR3\",\n",
    "    title=\"Top Productos de Cada Segmento con mas Unidades Vendidas\",\n",
    "    height=700,\n",
    "    labels={\n",
    "        'YEAR': 'AÑO',\n",
    "        'ATTR3': 'COLOR',\n",
    "        'FORMAT': 'FORMATO',\n",
    "        'TOTAL_UNIT_SALES' : 'TOTAL UNIDADES VENDIDAS',\n",
    "        'ITEM_CODE': 'Codigo de Producto'\n",
    "    }\n",
    ")\n",
    "fig.update_traces(textangle=0, textposition=\"outside\")\n",
    "fig.show()"
   ]
  },
  {
   "cell_type": "code",
   "execution_count": 3,
   "id": "15cacbf3-e149-4c50-a60c-52c638198cec",
   "metadata": {},
   "outputs": [
    {
     "data": {
      "application/vnd.plotly.v1+json": {
       "config": {
        "plotlyServerURL": "https://plot.ly"
       },
       "data": [
        {
         "customdata": [
          [
           "BLANCO"
          ]
         ],
         "hovertemplate": "Codigo de Producto=7501058794956BP1<br>AÑO=2021<br>FORMATO=%{x}<br>TOTAL VENTAS=%{y}<br>COLOR=%{customdata[0]}<extra></extra>",
         "legendgroup": "7501058794956BP1",
         "marker": {
          "color": "#636efa",
          "pattern": {
           "shape": ""
          }
         },
         "name": "7501058794956BP1",
         "orientation": "v",
         "showlegend": true,
         "text": [
          "BLANCO"
         ],
         "textangle": 0,
         "textposition": "outside",
         "type": "bar",
         "x": [
          "GEL"
         ],
         "xaxis": "x",
         "y": {
          "bdata": "2/l+arzQZUA=",
          "dtype": "f8"
         },
         "yaxis": "y"
        },
        {
         "customdata": [
          [
           "ROSA"
          ]
         ],
         "hovertemplate": "Codigo de Producto=7501058794949BP1<br>AÑO=2021<br>FORMATO=%{x}<br>TOTAL VENTAS=%{y}<br>COLOR=%{customdata[0]}<extra></extra>",
         "legendgroup": "7501058794949BP1",
         "marker": {
          "color": "#EF553B",
          "pattern": {
           "shape": ""
          }
         },
         "name": "7501058794949BP1",
         "orientation": "v",
         "showlegend": true,
         "text": [
          "ROSA"
         ],
         "textangle": 0,
         "textposition": "outside",
         "type": "bar",
         "x": [
          "GEL"
         ],
         "xaxis": "x",
         "y": {
          "bdata": "BFYOLbI9dkA=",
          "dtype": "f8"
         },
         "yaxis": "y"
        },
        {
         "customdata": [
          [
           "ROSA"
          ]
         ],
         "hovertemplate": "Codigo de Producto=7501058794949BP1<br>AÑO=2022<br>FORMATO=%{x}<br>TOTAL VENTAS=%{y}<br>COLOR=%{customdata[0]}<extra></extra>",
         "legendgroup": "7501058794949BP1",
         "marker": {
          "color": "#EF553B",
          "pattern": {
           "shape": ""
          }
         },
         "name": "7501058794949BP1",
         "orientation": "v",
         "showlegend": false,
         "text": [
          "ROSA"
         ],
         "textangle": 0,
         "textposition": "outside",
         "type": "bar",
         "x": [
          "GEL"
         ],
         "xaxis": "x2",
         "y": {
          "bdata": "JQaBlYPerEA=",
          "dtype": "f8"
         },
         "yaxis": "y2"
        },
        {
         "customdata": [
          [
           "ROSA"
          ]
         ],
         "hovertemplate": "Codigo de Producto=7501058786548BP1<br>AÑO=2021<br>FORMATO=%{x}<br>TOTAL VENTAS=%{y}<br>COLOR=%{customdata[0]}<extra></extra>",
         "legendgroup": "7501058786548BP1",
         "marker": {
          "color": "#00cc96",
          "pattern": {
           "shape": ""
          }
         },
         "name": "7501058786548BP1",
         "orientation": "v",
         "showlegend": true,
         "text": [
          "ROSA"
         ],
         "textangle": 0,
         "textposition": "outside",
         "type": "bar",
         "x": [
          "LIQUIDO"
         ],
         "xaxis": "x",
         "y": {
          "bdata": "gZVDi2znyz8=",
          "dtype": "f8"
         },
         "yaxis": "y"
        },
        {
         "customdata": [
          [
           "ROSA"
          ]
         ],
         "hovertemplate": "Codigo de Producto=7501058786548BP1<br>AÑO=2022<br>FORMATO=%{x}<br>TOTAL VENTAS=%{y}<br>COLOR=%{customdata[0]}<extra></extra>",
         "legendgroup": "7501058786548BP1",
         "marker": {
          "color": "#00cc96",
          "pattern": {
           "shape": ""
          }
         },
         "name": "7501058786548BP1",
         "orientation": "v",
         "showlegend": false,
         "text": [
          "ROSA"
         ],
         "textangle": 0,
         "textposition": "outside",
         "type": "bar",
         "x": [
          "LIQUIDO"
         ],
         "xaxis": "x2",
         "y": {
          "bdata": "YOXQItv5FUA=",
          "dtype": "f8"
         },
         "yaxis": "y2"
        },
        {
         "customdata": [
          [
           "ROSA"
          ]
         ],
         "hovertemplate": "Codigo de Producto=7501058786548BP1<br>AÑO=2023<br>FORMATO=%{x}<br>TOTAL VENTAS=%{y}<br>COLOR=%{customdata[0]}<extra></extra>",
         "legendgroup": "7501058786548BP1",
         "marker": {
          "color": "#00cc96",
          "pattern": {
           "shape": ""
          }
         },
         "name": "7501058786548BP1",
         "orientation": "v",
         "showlegend": false,
         "text": [
          "ROSA"
         ],
         "textangle": 0,
         "textposition": "outside",
         "type": "bar",
         "x": [
          "LIQUIDO"
         ],
         "xaxis": "x3",
         "y": {
          "bdata": "CKwcWmQ7zz8=",
          "dtype": "f8"
         },
         "yaxis": "y3"
        },
        {
         "customdata": [
          [
           "BLANCO"
          ]
         ],
         "hovertemplate": "Codigo de Producto=7501058792808BP1<br>AÑO=2021<br>FORMATO=%{x}<br>TOTAL VENTAS=%{y}<br>COLOR=%{customdata[0]}<extra></extra>",
         "legendgroup": "7501058792808BP1",
         "marker": {
          "color": "#ab63fa",
          "pattern": {
           "shape": ""
          }
         },
         "name": "7501058792808BP1",
         "orientation": "v",
         "showlegend": true,
         "text": [
          "BLANCO"
         ],
         "textangle": 0,
         "textposition": "outside",
         "type": "bar",
         "x": [
          "POLVO"
         ],
         "xaxis": "x",
         "y": {
          "bdata": "XI/C9SgcSkA=",
          "dtype": "f8"
         },
         "yaxis": "y"
        },
        {
         "customdata": [
          [
           "BLANCO"
          ]
         ],
         "hovertemplate": "Codigo de Producto=7501058792808BP1<br>AÑO=2022<br>FORMATO=%{x}<br>TOTAL VENTAS=%{y}<br>COLOR=%{customdata[0]}<extra></extra>",
         "legendgroup": "7501058792808BP1",
         "marker": {
          "color": "#ab63fa",
          "pattern": {
           "shape": ""
          }
         },
         "name": "7501058792808BP1",
         "orientation": "v",
         "showlegend": false,
         "text": [
          "BLANCO"
         ],
         "textangle": 0,
         "textposition": "outside",
         "type": "bar",
         "x": [
          "POLVO"
         ],
         "xaxis": "x2",
         "y": {
          "bdata": "mpmZmRlSmUA=",
          "dtype": "f8"
         },
         "yaxis": "y2"
        },
        {
         "customdata": [
          [
           "BLANCO"
          ]
         ],
         "hovertemplate": "Codigo de Producto=7501058792808BP1<br>AÑO=2023<br>FORMATO=%{x}<br>TOTAL VENTAS=%{y}<br>COLOR=%{customdata[0]}<extra></extra>",
         "legendgroup": "7501058792808BP1",
         "marker": {
          "color": "#ab63fa",
          "pattern": {
           "shape": ""
          }
         },
         "name": "7501058792808BP1",
         "orientation": "v",
         "showlegend": false,
         "text": [
          "BLANCO"
         ],
         "textangle": 0,
         "textposition": "outside",
         "type": "bar",
         "x": [
          "POLVO"
         ],
         "xaxis": "x3",
         "y": {
          "bdata": "+FPjpbu0vUA=",
          "dtype": "f8"
         },
         "yaxis": "y3"
        },
        {
         "customdata": [
          [
           "ROSA"
          ]
         ],
         "hovertemplate": "Codigo de Producto=7702626204208BP1<br>AÑO=2021<br>FORMATO=%{x}<br>TOTAL VENTAS=%{y}<br>COLOR=%{customdata[0]}<extra></extra>",
         "legendgroup": "7702626204208BP1",
         "marker": {
          "color": "#FFA15A",
          "pattern": {
           "shape": ""
          }
         },
         "name": "7702626204208BP1",
         "orientation": "v",
         "showlegend": true,
         "text": [
          "ROSA"
         ],
         "textangle": 0,
         "textposition": "outside",
         "type": "bar",
         "x": [
          "POLVO"
         ],
         "xaxis": "x",
         "y": {
          "bdata": "IbByaJGbckA=",
          "dtype": "f8"
         },
         "yaxis": "y"
        },
        {
         "customdata": [
          [
           "ROSA"
          ]
         ],
         "hovertemplate": "Codigo de Producto=7702626204208BP1<br>AÑO=2022<br>FORMATO=%{x}<br>TOTAL VENTAS=%{y}<br>COLOR=%{customdata[0]}<extra></extra>",
         "legendgroup": "7702626204208BP1",
         "marker": {
          "color": "#FFA15A",
          "pattern": {
           "shape": ""
          }
         },
         "name": "7702626204208BP1",
         "orientation": "v",
         "showlegend": false,
         "text": [
          "ROSA"
         ],
         "textangle": 0,
         "textposition": "outside",
         "type": "bar",
         "x": [
          "POLVO"
         ],
         "xaxis": "x2",
         "y": {
          "bdata": "okW2842cy0A=",
          "dtype": "f8"
         },
         "yaxis": "y2"
        },
        {
         "customdata": [
          [
           "ROSA"
          ]
         ],
         "hovertemplate": "Codigo de Producto=7702626204208BP1<br>AÑO=2023<br>FORMATO=%{x}<br>TOTAL VENTAS=%{y}<br>COLOR=%{customdata[0]}<extra></extra>",
         "legendgroup": "7702626204208BP1",
         "marker": {
          "color": "#FFA15A",
          "pattern": {
           "shape": ""
          }
         },
         "name": "7702626204208BP1",
         "orientation": "v",
         "showlegend": false,
         "text": [
          "ROSA"
         ],
         "textangle": 0,
         "textposition": "outside",
         "type": "bar",
         "x": [
          "POLVO"
         ],
         "xaxis": "x3",
         "y": {
          "bdata": "+n5qvJR+v0A=",
          "dtype": "f8"
         },
         "yaxis": "y3"
        },
        {
         "customdata": [
          [
           "BLANCO"
          ]
         ],
         "hovertemplate": "Codigo de Producto=7501058796578BP2<br>AÑO=2022<br>FORMATO=%{x}<br>TOTAL VENTAS=%{y}<br>COLOR=%{customdata[0]}<extra></extra>",
         "legendgroup": "7501058796578BP2",
         "marker": {
          "color": "#19d3f3",
          "pattern": {
           "shape": ""
          }
         },
         "name": "7501058796578BP2",
         "orientation": "v",
         "showlegend": true,
         "text": [
          "BLANCO"
         ],
         "textangle": 0,
         "textposition": "outside",
         "type": "bar",
         "x": [
          "GEL"
         ],
         "xaxis": "x2",
         "y": {
          "bdata": "UI2XbtJIoUA=",
          "dtype": "f8"
         },
         "yaxis": "y2"
        },
        {
         "customdata": [
          [
           "BLANCO"
          ]
         ],
         "hovertemplate": "Codigo de Producto=7501058796578BP2<br>AÑO=2023<br>FORMATO=%{x}<br>TOTAL VENTAS=%{y}<br>COLOR=%{customdata[0]}<extra></extra>",
         "legendgroup": "7501058796578BP2",
         "marker": {
          "color": "#19d3f3",
          "pattern": {
           "shape": ""
          }
         },
         "name": "7501058796578BP2",
         "orientation": "v",
         "showlegend": false,
         "text": [
          "BLANCO"
         ],
         "textangle": 0,
         "textposition": "outside",
         "type": "bar",
         "x": [
          "GEL"
         ],
         "xaxis": "x3",
         "y": {
          "bdata": "wcqhRfbroEA=",
          "dtype": "f8"
         },
         "yaxis": "y3"
        },
        {
         "customdata": [
          [
           "ROSA"
          ]
         ],
         "hovertemplate": "Codigo de Producto=7501058796578BP1<br>AÑO=2023<br>FORMATO=%{x}<br>TOTAL VENTAS=%{y}<br>COLOR=%{customdata[0]}<extra></extra>",
         "legendgroup": "7501058796578BP1",
         "marker": {
          "color": "#FF6692",
          "pattern": {
           "shape": ""
          }
         },
         "name": "7501058796578BP1",
         "orientation": "v",
         "showlegend": true,
         "text": [
          "ROSA"
         ],
         "textangle": 0,
         "textposition": "outside",
         "type": "bar",
         "x": [
          "GEL"
         ],
         "xaxis": "x3",
         "y": {
          "bdata": "wcqhRfbroEA=",
          "dtype": "f8"
         },
         "yaxis": "y3"
        }
       ],
       "layout": {
        "annotations": [
         {
          "font": {},
          "showarrow": false,
          "text": "AÑO=2021",
          "x": 0.15999999999999998,
          "xanchor": "center",
          "xref": "paper",
          "y": 1,
          "yanchor": "bottom",
          "yref": "paper"
         },
         {
          "font": {},
          "showarrow": false,
          "text": "AÑO=2022",
          "x": 0.49999999999999994,
          "xanchor": "center",
          "xref": "paper",
          "y": 1,
          "yanchor": "bottom",
          "yref": "paper"
         },
         {
          "font": {},
          "showarrow": false,
          "text": "AÑO=2023",
          "x": 0.8399999999999999,
          "xanchor": "center",
          "xref": "paper",
          "y": 1,
          "yanchor": "bottom",
          "yref": "paper"
         }
        ],
        "barmode": "relative",
        "height": 800,
        "legend": {
         "title": {
          "text": "Codigo de Producto"
         },
         "tracegroupgap": 0
        },
        "template": {
         "data": {
          "bar": [
           {
            "error_x": {
             "color": "#2a3f5f"
            },
            "error_y": {
             "color": "#2a3f5f"
            },
            "marker": {
             "line": {
              "color": "#E5ECF6",
              "width": 0.5
             },
             "pattern": {
              "fillmode": "overlay",
              "size": 10,
              "solidity": 0.2
             }
            },
            "type": "bar"
           }
          ],
          "barpolar": [
           {
            "marker": {
             "line": {
              "color": "#E5ECF6",
              "width": 0.5
             },
             "pattern": {
              "fillmode": "overlay",
              "size": 10,
              "solidity": 0.2
             }
            },
            "type": "barpolar"
           }
          ],
          "carpet": [
           {
            "aaxis": {
             "endlinecolor": "#2a3f5f",
             "gridcolor": "white",
             "linecolor": "white",
             "minorgridcolor": "white",
             "startlinecolor": "#2a3f5f"
            },
            "baxis": {
             "endlinecolor": "#2a3f5f",
             "gridcolor": "white",
             "linecolor": "white",
             "minorgridcolor": "white",
             "startlinecolor": "#2a3f5f"
            },
            "type": "carpet"
           }
          ],
          "choropleth": [
           {
            "colorbar": {
             "outlinewidth": 0,
             "ticks": ""
            },
            "type": "choropleth"
           }
          ],
          "contour": [
           {
            "colorbar": {
             "outlinewidth": 0,
             "ticks": ""
            },
            "colorscale": [
             [
              0,
              "#0d0887"
             ],
             [
              0.1111111111111111,
              "#46039f"
             ],
             [
              0.2222222222222222,
              "#7201a8"
             ],
             [
              0.3333333333333333,
              "#9c179e"
             ],
             [
              0.4444444444444444,
              "#bd3786"
             ],
             [
              0.5555555555555556,
              "#d8576b"
             ],
             [
              0.6666666666666666,
              "#ed7953"
             ],
             [
              0.7777777777777778,
              "#fb9f3a"
             ],
             [
              0.8888888888888888,
              "#fdca26"
             ],
             [
              1,
              "#f0f921"
             ]
            ],
            "type": "contour"
           }
          ],
          "contourcarpet": [
           {
            "colorbar": {
             "outlinewidth": 0,
             "ticks": ""
            },
            "type": "contourcarpet"
           }
          ],
          "heatmap": [
           {
            "colorbar": {
             "outlinewidth": 0,
             "ticks": ""
            },
            "colorscale": [
             [
              0,
              "#0d0887"
             ],
             [
              0.1111111111111111,
              "#46039f"
             ],
             [
              0.2222222222222222,
              "#7201a8"
             ],
             [
              0.3333333333333333,
              "#9c179e"
             ],
             [
              0.4444444444444444,
              "#bd3786"
             ],
             [
              0.5555555555555556,
              "#d8576b"
             ],
             [
              0.6666666666666666,
              "#ed7953"
             ],
             [
              0.7777777777777778,
              "#fb9f3a"
             ],
             [
              0.8888888888888888,
              "#fdca26"
             ],
             [
              1,
              "#f0f921"
             ]
            ],
            "type": "heatmap"
           }
          ],
          "histogram": [
           {
            "marker": {
             "pattern": {
              "fillmode": "overlay",
              "size": 10,
              "solidity": 0.2
             }
            },
            "type": "histogram"
           }
          ],
          "histogram2d": [
           {
            "colorbar": {
             "outlinewidth": 0,
             "ticks": ""
            },
            "colorscale": [
             [
              0,
              "#0d0887"
             ],
             [
              0.1111111111111111,
              "#46039f"
             ],
             [
              0.2222222222222222,
              "#7201a8"
             ],
             [
              0.3333333333333333,
              "#9c179e"
             ],
             [
              0.4444444444444444,
              "#bd3786"
             ],
             [
              0.5555555555555556,
              "#d8576b"
             ],
             [
              0.6666666666666666,
              "#ed7953"
             ],
             [
              0.7777777777777778,
              "#fb9f3a"
             ],
             [
              0.8888888888888888,
              "#fdca26"
             ],
             [
              1,
              "#f0f921"
             ]
            ],
            "type": "histogram2d"
           }
          ],
          "histogram2dcontour": [
           {
            "colorbar": {
             "outlinewidth": 0,
             "ticks": ""
            },
            "colorscale": [
             [
              0,
              "#0d0887"
             ],
             [
              0.1111111111111111,
              "#46039f"
             ],
             [
              0.2222222222222222,
              "#7201a8"
             ],
             [
              0.3333333333333333,
              "#9c179e"
             ],
             [
              0.4444444444444444,
              "#bd3786"
             ],
             [
              0.5555555555555556,
              "#d8576b"
             ],
             [
              0.6666666666666666,
              "#ed7953"
             ],
             [
              0.7777777777777778,
              "#fb9f3a"
             ],
             [
              0.8888888888888888,
              "#fdca26"
             ],
             [
              1,
              "#f0f921"
             ]
            ],
            "type": "histogram2dcontour"
           }
          ],
          "mesh3d": [
           {
            "colorbar": {
             "outlinewidth": 0,
             "ticks": ""
            },
            "type": "mesh3d"
           }
          ],
          "parcoords": [
           {
            "line": {
             "colorbar": {
              "outlinewidth": 0,
              "ticks": ""
             }
            },
            "type": "parcoords"
           }
          ],
          "pie": [
           {
            "automargin": true,
            "type": "pie"
           }
          ],
          "scatter": [
           {
            "fillpattern": {
             "fillmode": "overlay",
             "size": 10,
             "solidity": 0.2
            },
            "type": "scatter"
           }
          ],
          "scatter3d": [
           {
            "line": {
             "colorbar": {
              "outlinewidth": 0,
              "ticks": ""
             }
            },
            "marker": {
             "colorbar": {
              "outlinewidth": 0,
              "ticks": ""
             }
            },
            "type": "scatter3d"
           }
          ],
          "scattercarpet": [
           {
            "marker": {
             "colorbar": {
              "outlinewidth": 0,
              "ticks": ""
             }
            },
            "type": "scattercarpet"
           }
          ],
          "scattergeo": [
           {
            "marker": {
             "colorbar": {
              "outlinewidth": 0,
              "ticks": ""
             }
            },
            "type": "scattergeo"
           }
          ],
          "scattergl": [
           {
            "marker": {
             "colorbar": {
              "outlinewidth": 0,
              "ticks": ""
             }
            },
            "type": "scattergl"
           }
          ],
          "scattermap": [
           {
            "marker": {
             "colorbar": {
              "outlinewidth": 0,
              "ticks": ""
             }
            },
            "type": "scattermap"
           }
          ],
          "scattermapbox": [
           {
            "marker": {
             "colorbar": {
              "outlinewidth": 0,
              "ticks": ""
             }
            },
            "type": "scattermapbox"
           }
          ],
          "scatterpolar": [
           {
            "marker": {
             "colorbar": {
              "outlinewidth": 0,
              "ticks": ""
             }
            },
            "type": "scatterpolar"
           }
          ],
          "scatterpolargl": [
           {
            "marker": {
             "colorbar": {
              "outlinewidth": 0,
              "ticks": ""
             }
            },
            "type": "scatterpolargl"
           }
          ],
          "scatterternary": [
           {
            "marker": {
             "colorbar": {
              "outlinewidth": 0,
              "ticks": ""
             }
            },
            "type": "scatterternary"
           }
          ],
          "surface": [
           {
            "colorbar": {
             "outlinewidth": 0,
             "ticks": ""
            },
            "colorscale": [
             [
              0,
              "#0d0887"
             ],
             [
              0.1111111111111111,
              "#46039f"
             ],
             [
              0.2222222222222222,
              "#7201a8"
             ],
             [
              0.3333333333333333,
              "#9c179e"
             ],
             [
              0.4444444444444444,
              "#bd3786"
             ],
             [
              0.5555555555555556,
              "#d8576b"
             ],
             [
              0.6666666666666666,
              "#ed7953"
             ],
             [
              0.7777777777777778,
              "#fb9f3a"
             ],
             [
              0.8888888888888888,
              "#fdca26"
             ],
             [
              1,
              "#f0f921"
             ]
            ],
            "type": "surface"
           }
          ],
          "table": [
           {
            "cells": {
             "fill": {
              "color": "#EBF0F8"
             },
             "line": {
              "color": "white"
             }
            },
            "header": {
             "fill": {
              "color": "#C8D4E3"
             },
             "line": {
              "color": "white"
             }
            },
            "type": "table"
           }
          ]
         },
         "layout": {
          "annotationdefaults": {
           "arrowcolor": "#2a3f5f",
           "arrowhead": 0,
           "arrowwidth": 1
          },
          "autotypenumbers": "strict",
          "coloraxis": {
           "colorbar": {
            "outlinewidth": 0,
            "ticks": ""
           }
          },
          "colorscale": {
           "diverging": [
            [
             0,
             "#8e0152"
            ],
            [
             0.1,
             "#c51b7d"
            ],
            [
             0.2,
             "#de77ae"
            ],
            [
             0.3,
             "#f1b6da"
            ],
            [
             0.4,
             "#fde0ef"
            ],
            [
             0.5,
             "#f7f7f7"
            ],
            [
             0.6,
             "#e6f5d0"
            ],
            [
             0.7,
             "#b8e186"
            ],
            [
             0.8,
             "#7fbc41"
            ],
            [
             0.9,
             "#4d9221"
            ],
            [
             1,
             "#276419"
            ]
           ],
           "sequential": [
            [
             0,
             "#0d0887"
            ],
            [
             0.1111111111111111,
             "#46039f"
            ],
            [
             0.2222222222222222,
             "#7201a8"
            ],
            [
             0.3333333333333333,
             "#9c179e"
            ],
            [
             0.4444444444444444,
             "#bd3786"
            ],
            [
             0.5555555555555556,
             "#d8576b"
            ],
            [
             0.6666666666666666,
             "#ed7953"
            ],
            [
             0.7777777777777778,
             "#fb9f3a"
            ],
            [
             0.8888888888888888,
             "#fdca26"
            ],
            [
             1,
             "#f0f921"
            ]
           ],
           "sequentialminus": [
            [
             0,
             "#0d0887"
            ],
            [
             0.1111111111111111,
             "#46039f"
            ],
            [
             0.2222222222222222,
             "#7201a8"
            ],
            [
             0.3333333333333333,
             "#9c179e"
            ],
            [
             0.4444444444444444,
             "#bd3786"
            ],
            [
             0.5555555555555556,
             "#d8576b"
            ],
            [
             0.6666666666666666,
             "#ed7953"
            ],
            [
             0.7777777777777778,
             "#fb9f3a"
            ],
            [
             0.8888888888888888,
             "#fdca26"
            ],
            [
             1,
             "#f0f921"
            ]
           ]
          },
          "colorway": [
           "#636efa",
           "#EF553B",
           "#00cc96",
           "#ab63fa",
           "#FFA15A",
           "#19d3f3",
           "#FF6692",
           "#B6E880",
           "#FF97FF",
           "#FECB52"
          ],
          "font": {
           "color": "#2a3f5f"
          },
          "geo": {
           "bgcolor": "white",
           "lakecolor": "white",
           "landcolor": "#E5ECF6",
           "showlakes": true,
           "showland": true,
           "subunitcolor": "white"
          },
          "hoverlabel": {
           "align": "left"
          },
          "hovermode": "closest",
          "mapbox": {
           "style": "light"
          },
          "paper_bgcolor": "white",
          "plot_bgcolor": "#E5ECF6",
          "polar": {
           "angularaxis": {
            "gridcolor": "white",
            "linecolor": "white",
            "ticks": ""
           },
           "bgcolor": "#E5ECF6",
           "radialaxis": {
            "gridcolor": "white",
            "linecolor": "white",
            "ticks": ""
           }
          },
          "scene": {
           "xaxis": {
            "backgroundcolor": "#E5ECF6",
            "gridcolor": "white",
            "gridwidth": 2,
            "linecolor": "white",
            "showbackground": true,
            "ticks": "",
            "zerolinecolor": "white"
           },
           "yaxis": {
            "backgroundcolor": "#E5ECF6",
            "gridcolor": "white",
            "gridwidth": 2,
            "linecolor": "white",
            "showbackground": true,
            "ticks": "",
            "zerolinecolor": "white"
           },
           "zaxis": {
            "backgroundcolor": "#E5ECF6",
            "gridcolor": "white",
            "gridwidth": 2,
            "linecolor": "white",
            "showbackground": true,
            "ticks": "",
            "zerolinecolor": "white"
           }
          },
          "shapedefaults": {
           "line": {
            "color": "#2a3f5f"
           }
          },
          "ternary": {
           "aaxis": {
            "gridcolor": "white",
            "linecolor": "white",
            "ticks": ""
           },
           "baxis": {
            "gridcolor": "white",
            "linecolor": "white",
            "ticks": ""
           },
           "bgcolor": "#E5ECF6",
           "caxis": {
            "gridcolor": "white",
            "linecolor": "white",
            "ticks": ""
           }
          },
          "title": {
           "x": 0.05
          },
          "xaxis": {
           "automargin": true,
           "gridcolor": "white",
           "linecolor": "white",
           "ticks": "",
           "title": {
            "standoff": 15
           },
           "zerolinecolor": "white",
           "zerolinewidth": 2
          },
          "yaxis": {
           "automargin": true,
           "gridcolor": "white",
           "linecolor": "white",
           "ticks": "",
           "title": {
            "standoff": 15
           },
           "zerolinecolor": "white",
           "zerolinewidth": 2
          }
         }
        },
        "title": {
         "text": "Top Productos de Cada Segmento con mas Total en Ventas"
        },
        "xaxis": {
         "anchor": "y",
         "domain": [
          0,
          0.31999999999999995
         ],
         "title": {
          "text": "FORMATO"
         }
        },
        "xaxis2": {
         "anchor": "y2",
         "domain": [
          0.33999999999999997,
          0.6599999999999999
         ],
         "matches": "x",
         "title": {
          "text": "FORMATO"
         }
        },
        "xaxis3": {
         "anchor": "y3",
         "domain": [
          0.6799999999999999,
          0.9999999999999999
         ],
         "matches": "x",
         "title": {
          "text": "FORMATO"
         }
        },
        "yaxis": {
         "anchor": "x",
         "domain": [
          0,
          1
         ],
         "title": {
          "text": "TOTAL VENTAS"
         }
        },
        "yaxis2": {
         "anchor": "x2",
         "domain": [
          0,
          1
         ],
         "matches": "y",
         "showticklabels": false
        },
        "yaxis3": {
         "anchor": "x3",
         "domain": [
          0,
          1
         ],
         "matches": "y",
         "showticklabels": false
        }
       }
      },
      "image/png": "[encoded data removed]"
     },
     "metadata": {},
     "output_type": "display_data"
    }
   ],
   "source": [
    "fig = px.bar(\n",
    "    dfFormatSalesAtts,\n",
    "    x=\"FORMAT\",\n",
    "    y=\"TOTAL_VALUE_SALES\",\n",
    "    color=\"ITEM_CODE\",\n",
    "    facet_col=\"YEAR\",\n",
    "    hover_data=[\"ATTR3\"],\n",
    "    text=\"ATTR3\",\n",
    "    title=\"Top Productos de Cada Segmento con mayor Total en Ventas\",\n",
    "    height=800,\n",
    "    labels={\n",
    "        'YEAR': 'AÑO',\n",
    "        'ATTR3': 'COLOR',\n",
    "        'FORMAT': 'FORMATO',\n",
    "        'TOTAL_VALUE_SALES' : 'TOTAL VENTAS',\n",
    "        'ITEM_CODE': 'Codigo de Producto'\n",
    "    }\n",
    ")\n",
    "fig.update_traces(textangle=0, textposition=\"outside\")\n",
    "fig.show()"
   ]
  }
 ],
 "metadata": {
  "kernelspec": {
   "display_name": "Python 3 (ipykernel)",
   "language": "python",
   "name": "python3"
  },
  "language_info": {
   "codemirror_mode": {
    "name": "ipython",
    "version": 3
   },
   "file_extension": ".py",
   "mimetype": "text/x-python",
   "name": "python",
   "nbconvert_exporter": "python",
   "pygments_lexer": "ipython3",
   "version": "3.9.5"
  }
 },
 "nbformat": 4,
 "nbformat_minor": 5
}
